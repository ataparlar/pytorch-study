{
 "cells": [
  {
   "cell_type": "code",
   "execution_count": 1,
   "metadata": {},
   "outputs": [],
   "source": [
    "import torch\n"
   ]
  },
  {
   "cell_type": "markdown",
   "metadata": {},
   "source": [
    "# 2. Create a random tensor with shape (7, 7)"
   ]
  },
  {
   "cell_type": "code",
   "execution_count": 3,
   "metadata": {},
   "outputs": [
    {
     "name": "stdout",
     "output_type": "stream",
     "text": [
      "2. Create a random tensor with shape (7, 7):\n"
     ]
    },
    {
     "data": {
      "text/plain": [
       "tensor([[0.8976, 0.7835, 0.6937, 0.9836, 0.4776, 0.8437, 0.1984],\n",
       "        [0.4442, 0.4661, 0.0686, 0.9301, 0.1283, 0.2479, 0.3712],\n",
       "        [0.5621, 0.5055, 0.3313, 0.0225, 0.4196, 0.7056, 0.4139],\n",
       "        [0.4220, 0.6600, 0.9272, 0.2629, 0.6898, 0.8807, 0.6136],\n",
       "        [0.4412, 0.8994, 0.9686, 0.4323, 0.0961, 0.4956, 0.4562],\n",
       "        [0.0403, 0.8488, 0.0725, 0.0752, 0.2495, 0.3116, 0.5788],\n",
       "        [0.6501, 0.3244, 0.6778, 0.5236, 0.7446, 0.4411, 0.8892]])"
      ]
     },
     "execution_count": 3,
     "metadata": {},
     "output_type": "execute_result"
    }
   ],
   "source": [
    "random_tensor = torch.rand(size=(7, 7))\n",
    "print(\"2. Create a random tensor with shape (7, 7):\")\n",
    "random_tensor"
   ]
  },
  {
   "cell_type": "markdown",
   "metadata": {},
   "source": [
    "# 3. Perform a matrix multiplication on the tensor from 2 with another random tensor with shape (1, 7). (hint: you may have to transpose the second tensor).\n"
   ]
  },
  {
   "cell_type": "code",
   "execution_count": 37,
   "metadata": {},
   "outputs": [
    {
     "data": {
      "text/plain": [
       "tensor([[2.4733],\n",
       "        [1.4590],\n",
       "        [1.3522],\n",
       "        [1.9654],\n",
       "        [1.7064],\n",
       "        [0.8488],\n",
       "        [1.8026]])"
      ]
     },
     "execution_count": 37,
     "metadata": {},
     "output_type": "execute_result"
    }
   ],
   "source": [
    "random_tensor_2 = torch.rand(size=(1, 7))\n",
    "\n",
    "# create a transpose of randem_tensor_2\n",
    "random_tensor_2_transposed = random_tensor_2.T\n",
    "\n",
    "# make matrix multiplication\n",
    "multiplicated_tensor = random_tensor.matmul(random_tensor_2_transposed)\n",
    "multiplicated_tensor"
   ]
  },
  {
   "cell_type": "markdown",
   "metadata": {},
   "source": [
    "# 4. Set the random seed to 0 and do exercises 2 & 3 over again"
   ]
  },
  {
   "cell_type": "code",
   "execution_count": 223,
   "metadata": {},
   "outputs": [
    {
     "name": "stdout",
     "output_type": "stream",
     "text": [
      "measured_time_cpu:  0.0008149147033691406\n"
     ]
    }
   ],
   "source": [
    "import random, time\n",
    "\n",
    "time_cpu_start = time.time()\n",
    "\n",
    "RANDOM_SEED = 1234\n",
    "\n",
    "torch.manual_seed(RANDOM_SEED)\n",
    "random_tensor_seed = torch.rand(size=(7, 7))\n",
    "random_tensor_seed_2 = torch.rand(size=(1, 7))\n",
    "\n",
    "random_tensor_seed_2_transposed = random_tensor_seed_2.T\n",
    "multiplicated_tensor_seed = random_tensor_seed.matmul(random_tensor_seed_2_transposed)\n",
    "\n",
    "time_cpu_end = time.time()\n",
    "\n",
    "measured_time = time_cpu_end - time_cpu_start\n",
    "print(\"measured_time_cpu: \", measured_time)"
   ]
  },
  {
   "cell_type": "markdown",
   "metadata": {},
   "source": [
    "# 5. Speaking of random seeds, we saw how to set it with torch.manual_seed() but is there a GPU equivalent? (hint: you'll need to look into the documentation for torch.cuda for this one). If there is, set the GPU random seed to 1234.\n",
    "\n",
    "https://pytorch.org/docs/main/notes/cuda.html"
   ]
  },
  {
   "cell_type": "code",
   "execution_count": 180,
   "metadata": {},
   "outputs": [
    {
     "name": "stdout",
     "output_type": "stream",
     "text": [
      "measured_time_gpu:  0.0008294582366943359\n",
      "tensor([[0.9558],\n",
      "        [1.2227],\n",
      "        [0.9335],\n",
      "        [1.6030],\n",
      "        [0.9344],\n",
      "        [0.5282],\n",
      "        [0.5664]], device='cuda:0')\n"
     ]
    }
   ],
   "source": [
    "cuda = torch.device('cuda:0')\n",
    "\n",
    "with cuda:\n",
    "    time_gpu_start = time.time()\n",
    "    \n",
    "    GPU_SEED = 1234\n",
    "    torch.manual_seed(GPU_SEED)\n",
    "\n",
    "    x = torch.rand(size=(7, 7))\n",
    "    y = torch.rand(size=(1, 7))\n",
    "\n",
    "    y_transposed = y.T\n",
    "    mult = x.matmul(y_transposed)\n",
    "    \n",
    "    time_gpu_end = time.time()\n",
    "\n",
    "    print(\"measured_time_gpu: \", time_gpu_end - time_gpu_start)\n",
    "    \n",
    "    print(mult)"
   ]
  },
  {
   "cell_type": "markdown",
   "metadata": {},
   "source": [
    "# 6. Create two random tensors of shape (2, 3) and send them both to the GPU (you'll need access to a GPU for this). Set torch.manual_seed(1234) when creating the tensors (this doesn't have to be the GPU random seed)."
   ]
  },
  {
   "cell_type": "code",
   "execution_count": null,
   "metadata": {},
   "outputs": [
    {
     "name": "stdout",
     "output_type": "stream",
     "text": [
      "a_gpu:\n",
      "tensor([[0.0290, 0.4019, 0.2598],\n",
      "        [0.3666, 0.0583, 0.7006]], device='cuda:0')\n",
      "b_gpu:\n",
      "tensor([[0.0518, 0.4681, 0.6738],\n",
      "        [0.3315, 0.7837, 0.5631]], device='cuda:0')\n"
     ]
    }
   ],
   "source": [
    "torch.manual_seed(1234)\n",
    "\n",
    "a = torch.rand(size=(2, 3))\n",
    "b = torch.rand(size=(2, 3))\n",
    "\n",
    "a_gpu = a.cuda()\n",
    "b_gpu = b.cuda()\n",
    "\n",
    "print(\"a_gpu:\")\n",
    "print(a_gpu)\n",
    "print(\"b_gpu:\")\n",
    "print(b_gpu)\n",
    "\n"
   ]
  },
  {
   "cell_type": "markdown",
   "metadata": {},
   "source": [
    "# 7. Perform a matrix multiplication on the tensors you created in 6 (again, you may have to adjust the shapes of one of the tensors)."
   ]
  },
  {
   "cell_type": "code",
   "execution_count": 232,
   "metadata": {},
   "outputs": [
    {
     "data": {
      "text/plain": [
       "tensor([[0.3647, 0.4709],\n",
       "        [0.5184, 0.5617]], device='cuda:0')"
      ]
     },
     "execution_count": 232,
     "metadata": {},
     "output_type": "execute_result"
    }
   ],
   "source": [
    "b_gpu_transposed = b_gpu.T\n",
    "\n",
    "ab_mult = a_gpu.matmul(b_gpu_transposed)\n",
    "ab_mult"
   ]
  },
  {
   "cell_type": "markdown",
   "metadata": {},
   "source": [
    "# 8. Find the maximum and minimum values of the output of 7.\n"
   ]
  },
  {
   "cell_type": "code",
   "execution_count": 234,
   "metadata": {},
   "outputs": [
    {
     "name": "stdout",
     "output_type": "stream",
     "text": [
      "ab_mult_max:\n",
      "tensor(0.5617, device='cuda:0')\n",
      "ab_mult_min:\n",
      "tensor(0.3647, device='cuda:0')\n"
     ]
    }
   ],
   "source": [
    "ab_mult_max = ab_mult.max()\n",
    "ab_mult_min = ab_mult.min()\n",
    "\n",
    "print(\"ab_mult_max:\")\n",
    "print(ab_mult_max)\n",
    "print(\"ab_mult_min:\")\n",
    "print(ab_mult_min)"
   ]
  },
  {
   "cell_type": "markdown",
   "metadata": {},
   "source": [
    "# 9. Find the maximum and minimum index values of the output of 7."
   ]
  },
  {
   "cell_type": "code",
   "execution_count": null,
   "metadata": {},
   "outputs": [
    {
     "name": "stdout",
     "output_type": "stream",
     "text": [
      "ab_mult_ind_max:\n",
      "tensor(0.5617, device='cuda:0')\n",
      "ab_mult_ind_min:\n",
      "tensor(0.3647, device='cuda:0')\n"
     ]
    }
   ],
   "source": [
    "ab_mult_ind_max = ab_mult[-1][-1]  # Take the last value\n",
    "ab_mult_ind_min = ab_mult[0][0]\n",
    "\n",
    "print(\"ab_mult_ind_max:\")\n",
    "print(ab_mult_ind_max)\n",
    "print(\"ab_mult_ind_min:\")\n",
    "print(ab_mult_ind_min)"
   ]
  },
  {
   "cell_type": "markdown",
   "metadata": {},
   "source": [
    "# 10. Make a random tensor with shape (1, 1, 1, 10) and then create a new tensor with all the 1 dimensions removed to be left with a tensor of shape (10). Set the seed to 7 when you create it and print out the first tensor and it's shape as well as the second tensor and it's shape."
   ]
  },
  {
   "cell_type": "code",
   "execution_count": 253,
   "metadata": {},
   "outputs": [
    {
     "name": "stdout",
     "output_type": "stream",
     "text": [
      "shaped_tensor (1, 1, 1, 10):\n",
      "tensor([[[[0.5349, 0.1988, 0.6592, 0.6569, 0.2328, 0.4251, 0.2071, 0.6297,\n",
      "           0.3653, 0.8513]]]])\n",
      "shape: torch.Size([1, 1, 1, 10])\n",
      "\n",
      "squeezed_tensor (1, 1, 1, 10):\n",
      "tensor([0.5349, 0.1988, 0.6592, 0.6569, 0.2328, 0.4251, 0.2071, 0.6297, 0.3653,\n",
      "        0.8513])\n",
      "shape: torch.Size([10])\n"
     ]
    }
   ],
   "source": [
    "torch.manual_seed(7)\n",
    "shaped_tensor = torch.rand(size=(1, 1, 1, 10))\n",
    "print(\"shaped_tensor (1, 1, 1, 10):\")\n",
    "print(shaped_tensor)\n",
    "print(\"shape:\", shaped_tensor.shape)\n",
    "\n",
    "squeezed_tensor = shaped_tensor.squeeze()\n",
    "print(\"\\nsqueezed_tensor (1, 1, 1, 10):\")\n",
    "print(squeezed_tensor)\n",
    "print(\"shape:\", squeezed_tensor.shape)\n",
    "\n"
   ]
  }
 ],
 "metadata": {
  "kernelspec": {
   "display_name": "dl_start",
   "language": "python",
   "name": "python3"
  },
  "language_info": {
   "codemirror_mode": {
    "name": "ipython",
    "version": 3
   },
   "file_extension": ".py",
   "mimetype": "text/x-python",
   "name": "python",
   "nbconvert_exporter": "python",
   "pygments_lexer": "ipython3",
   "version": "3.10.12"
  }
 },
 "nbformat": 4,
 "nbformat_minor": 2
}
